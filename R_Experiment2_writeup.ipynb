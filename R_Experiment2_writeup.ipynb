{
  "nbformat": 4,
  "nbformat_minor": 0,
  "metadata": {
    "colab": {
      "name": "  R_Experiment2_writeup.ipynb",
      "provenance": [],
      "collapsed_sections": [],
      "include_colab_link": true
    },
    "kernelspec": {
      "name": "ir",
      "display_name": "R"
    }
  },
  "cells": [
    {
      "cell_type": "markdown",
      "metadata": {
        "id": "view-in-github",
        "colab_type": "text"
      },
      "source": [
        "<a href=\"https://colab.research.google.com/github/sanket5792/Rlab/blob/main/R_Experiment2_writeup.ipynb\" target=\"_parent\"><img src=\"https://colab.research.google.com/assets/colab-badge.svg\" alt=\"Open In Colab\"/></a>"
      ]
    },
    {
      "cell_type": "markdown",
      "metadata": {
        "id": "ID8ytqkhyQUI"
      },
      "source": [
        "\n",
        "**Vectors R Programming**\n",
        "\n",
        "The simplest and most common data structure in R is the vector. Vectors come in two different flavors: atomic vectors and lists. An atomic vector contains exactly one data type, whereas a list may contain multiple data types.\n",
        "\n",
        "Atomic vectors include logical, character, integer, and complex. Logical vectors can contain the values TRUE, FALSE, and NA (for 'not available').These values are generated as the result of logical 'conditions'.\n",
        "\n",
        "Complet following couple of code cell to genearate a logical vector in variable logic_vect\n"
      ]
    },
    {
      "cell_type": "code",
      "metadata": {
        "id": "vmxkWCwVaTsu",
        "colab": {
          "base_uri": "https://localhost:8080/",
          "height": 34
        },
        "outputId": "7774e303-e2bc-42f8-bc08-a163c8307e66"
      },
      "source": [
        "# Create a vector num_vect with values -100, 0.55, 45, 5466\n",
        "num_vect<-c(-100,0.55,45,5466)\n",
        "num_vect"
      ],
      "execution_count": null,
      "outputs": [
        {
          "output_type": "display_data",
          "data": {
            "text/plain": [
              "[1] -100.00    0.55   45.00 5466.00"
            ],
            "text/latex": "\\begin{enumerate*}\n\\item -100\n\\item 0.55\n\\item 45\n\\item 5466\n\\end{enumerate*}\n",
            "text/markdown": "1. -100\n2. 0.55\n3. 45\n4. 5466\n\n\n",
            "text/html": [
              "<style>\n",
              ".list-inline {list-style: none; margin:0; padding: 0}\n",
              ".list-inline>li {display: inline-block}\n",
              ".list-inline>li:not(:last-child)::after {content: \"\\00b7\"; padding: 0 .5ex}\n",
              "</style>\n",
              "<ol class=list-inline><li>-100</li><li>0.55</li><li>45</li><li>5466</li></ol>\n"
            ]
          },
          "metadata": {
            "tags": []
          }
        }
      ]
    },
    {
      "cell_type": "code",
      "metadata": {
        "id": "eB193NZhaTxX"
      },
      "source": [
        "#Now, create a variable called logic_vect that gets the result of num_vect <= 0.55, which is read as 'num_vect is less than 0.55'.\n"
      ],
      "execution_count": null,
      "outputs": []
    },
    {
      "cell_type": "markdown",
      "metadata": {
        "id": "Wjk_ipkRbIEQ"
      },
      "source": [
        "If you print logic_vect. you will see that is is a logical vector with 4 values. Print logic_vect in cell below to verify it "
      ]
    },
    {
      "cell_type": "code",
      "metadata": {
        "id": "daPof3CfbYJl"
      },
      "source": [
        "#print logic_vect"
      ],
      "execution_count": null,
      "outputs": []
    },
    {
      "cell_type": "code",
      "metadata": {
        "id": "ZJRGCFsRbluA"
      },
      "source": [
        "#Type num_vect >= 6 and note the output"
      ],
      "execution_count": null,
      "outputs": []
    },
    {
      "cell_type": "markdown",
      "metadata": {
        "id": "ykWXOe7kbbCH"
      },
      "source": [
        "Character vectors\n",
        "\n",
        "Character vectors are also very common in R. Double quotes are used to distinguish character objects."
      ]
    },
    {
      "cell_type": "code",
      "metadata": {
        "id": "Y5By5YrKcKLV"
      },
      "source": [
        "# Create a character vector that contains the following words: \"My\", \"name\", \"is\". \n",
        "#Remember to enclose each word in its own set of double quotes, \n",
        "#so that R knows they are character strings. Store the vector in a variable called char_vect.\n"
      ],
      "execution_count": null,
      "outputs": []
    },
    {
      "cell_type": "code",
      "metadata": {
        "id": "fCs9xH65dXqF"
      },
      "source": [
        "# print the char_vect"
      ],
      "execution_count": null,
      "outputs": []
    },
    {
      "cell_type": "code",
      "metadata": {
        "id": "wqFk1eWDdaej"
      },
      "source": [
        "#use paste(char_vect, collapse=\" \")\n"
      ],
      "execution_count": null,
      "outputs": []
    },
    {
      "cell_type": "markdown",
      "metadata": {
        "id": "U6zErBTNdkjS"
      },
      "source": [
        "Explain What difference you see in above two code blocks\n",
        "\n",
        " My explaination\n",
        " ss\n",
        " \n",
        " fsdfsd\n",
        " fsfd\n",
        " fsdf"
      ]
    },
    {
      "cell_type": "code",
      "metadata": {
        "id": "bb8VxwW6eq4I"
      },
      "source": [
        "# add your name as an element to char_vect and paste complete sentence saying \"My name is <your name>\"\n"
      ],
      "execution_count": null,
      "outputs": []
    },
    {
      "cell_type": "code",
      "metadata": {
        "id": "2On4I2KFffCo"
      },
      "source": [
        "#Execute this code block\n",
        "paste(\"Hello\",\"World!\",collapse=\" \")"
      ],
      "execution_count": null,
      "outputs": []
    },
    {
      "cell_type": "markdown",
      "metadata": {
        "id": "Ix0RGNhYfk5M"
      },
      "source": [
        "Explain output of code block above."
      ]
    },
    {
      "cell_type": "code",
      "metadata": {
        "id": "UG8NGPx4fq01"
      },
      "source": [
        "#Execute this \n",
        "paste(1:3, c(\"X\", \"Y\", \"Z\"), sep = \":\")"
      ],
      "execution_count": null,
      "outputs": []
    },
    {
      "cell_type": "markdown",
      "metadata": {
        "id": "WZburobtgHPL"
      },
      "source": [
        "Explain output of above code block"
      ]
    },
    {
      "cell_type": "code",
      "metadata": {
        "id": "dfigEt5CgidD"
      },
      "source": [
        "#Executes this LETTERS is \n",
        "paste(LETTERS, 1:10, sep = \"-\")"
      ],
      "execution_count": null,
      "outputs": []
    },
    {
      "cell_type": "markdown",
      "metadata": {
        "id": "zi6nXmiZp1Li"
      },
      "source": [
        "Explain output of above code block"
      ]
    },
    {
      "cell_type": "markdown",
      "metadata": {
        "id": "oaWD-k-4qNOV"
      },
      "source": [
        "**Write R code to Solve Following**\n",
        "1.   To begin with create a vecor **a** of 20 random values from Std Normal Variable.\n",
        "2.   Creat another vector **b** of 20 NA values. Also create vector x\n",
        "3.   Sample 20 values from above two vectors. \n",
        "4.   Subset  10th to 15th element from x to generate sample y\n",
        "5.   Count NAs in vector x and y         "
      ]
    },
    {
      "cell_type": "code",
      "metadata": {
        "id": "jFPLWLTttQFS",
        "colab": {
          "base_uri": "https://localhost:8080/",
          "height": 50
        },
        "outputId": "2d347f87-6a59-443c-b45f-e6f376295842"
      },
      "source": [
        "# Create a Vector 'a' of 20 random values from Std Normal Variable.\n",
        "a <- rnorm(20)\n",
        "a"
      ],
      "execution_count": 1,
      "outputs": [
        {
          "output_type": "display_data",
          "data": {
            "text/plain": [
              " [1]  1.19751555 -0.95348283  0.76419345  1.00481211 -0.40087657  0.25433278\n",
              " [7]  0.54200425  0.79003247 -1.13849106  0.89733697  1.04998500 -0.45311601\n",
              "[13]  0.56512222 -1.19844760 -0.06724946  0.23599629  0.63661332 -0.84955225\n",
              "[19]  0.69307762 -0.04646098"
            ],
            "text/latex": "\\begin{enumerate*}\n\\item 1.19751555106242\n\\item -0.9534828274532\n\\item 0.76419344733896\n\\item 1.00481211219886\n\\item -0.400876572759581\n\\item 0.254332782405122\n\\item 0.54200424512109\n\\item 0.7900324700353\n\\item -1.13849105645343\n\\item 0.897336970153367\n\\item 1.04998499522981\n\\item -0.453116014300569\n\\item 0.565122220038264\n\\item -1.19844759576262\n\\item -0.0672494596122258\n\\item 0.235996285435477\n\\item 0.636613321283229\n\\item -0.849552249989256\n\\item 0.693077620094557\n\\item -0.046460978520013\n\\end{enumerate*}\n",
            "text/markdown": "1. 1.19751555106242\n2. -0.9534828274532\n3. 0.76419344733896\n4. 1.00481211219886\n5. -0.400876572759581\n6. 0.254332782405122\n7. 0.54200424512109\n8. 0.7900324700353\n9. -1.13849105645343\n10. 0.897336970153367\n11. 1.04998499522981\n12. -0.453116014300569\n13. 0.565122220038264\n14. -1.19844759576262\n15. -0.0672494596122258\n16. 0.235996285435477\n17. 0.636613321283229\n18. -0.849552249989256\n19. 0.693077620094557\n20. -0.046460978520013\n\n\n",
            "text/html": [
              "<style>\n",
              ".list-inline {list-style: none; margin:0; padding: 0}\n",
              ".list-inline>li {display: inline-block}\n",
              ".list-inline>li:not(:last-child)::after {content: \"\\00b7\"; padding: 0 .5ex}\n",
              "</style>\n",
              "<ol class=list-inline><li>1.19751555106242</li><li>-0.9534828274532</li><li>0.76419344733896</li><li>1.00481211219886</li><li>-0.400876572759581</li><li>0.254332782405122</li><li>0.54200424512109</li><li>0.7900324700353</li><li>-1.13849105645343</li><li>0.897336970153367</li><li>1.04998499522981</li><li>-0.453116014300569</li><li>0.565122220038264</li><li>-1.19844759576262</li><li>-0.0672494596122258</li><li>0.235996285435477</li><li>0.636613321283229</li><li>-0.849552249989256</li><li>0.693077620094557</li><li>-0.046460978520013</li></ol>\n"
            ]
          },
          "metadata": {
            "tags": []
          }
        }
      ]
    },
    {
      "cell_type": "code",
      "metadata": {
        "id": "FVLkub50tPQ0",
        "colab": {
          "base_uri": "https://localhost:8080/",
          "height": 34
        },
        "outputId": "ae23a56e-3d6a-40b6-e381-422d94c611ab"
      },
      "source": [
        "# Create another vector b of 20 NA values. Also create vector x.\n",
        "b <- rep(NA, 20)\n",
        "b"
      ],
      "execution_count": 2,
      "outputs": [
        {
          "output_type": "display_data",
          "data": {
            "text/plain": [
              " [1] NA NA NA NA NA NA NA NA NA NA NA NA NA NA NA NA NA NA NA NA"
            ],
            "text/latex": "\\begin{enumerate*}\n\\item <NA>\n\\item <NA>\n\\item <NA>\n\\item <NA>\n\\item <NA>\n\\item <NA>\n\\item <NA>\n\\item <NA>\n\\item <NA>\n\\item <NA>\n\\item <NA>\n\\item <NA>\n\\item <NA>\n\\item <NA>\n\\item <NA>\n\\item <NA>\n\\item <NA>\n\\item <NA>\n\\item <NA>\n\\item <NA>\n\\end{enumerate*}\n",
            "text/markdown": "1. &lt;NA&gt;\n2. &lt;NA&gt;\n3. &lt;NA&gt;\n4. &lt;NA&gt;\n5. &lt;NA&gt;\n6. &lt;NA&gt;\n7. &lt;NA&gt;\n8. &lt;NA&gt;\n9. &lt;NA&gt;\n10. &lt;NA&gt;\n11. &lt;NA&gt;\n12. &lt;NA&gt;\n13. &lt;NA&gt;\n14. &lt;NA&gt;\n15. &lt;NA&gt;\n16. &lt;NA&gt;\n17. &lt;NA&gt;\n18. &lt;NA&gt;\n19. &lt;NA&gt;\n20. &lt;NA&gt;\n\n\n",
            "text/html": [
              "<style>\n",
              ".list-inline {list-style: none; margin:0; padding: 0}\n",
              ".list-inline>li {display: inline-block}\n",
              ".list-inline>li:not(:last-child)::after {content: \"\\00b7\"; padding: 0 .5ex}\n",
              "</style>\n",
              "<ol class=list-inline><li>&lt;NA&gt;</li><li>&lt;NA&gt;</li><li>&lt;NA&gt;</li><li>&lt;NA&gt;</li><li>&lt;NA&gt;</li><li>&lt;NA&gt;</li><li>&lt;NA&gt;</li><li>&lt;NA&gt;</li><li>&lt;NA&gt;</li><li>&lt;NA&gt;</li><li>&lt;NA&gt;</li><li>&lt;NA&gt;</li><li>&lt;NA&gt;</li><li>&lt;NA&gt;</li><li>&lt;NA&gt;</li><li>&lt;NA&gt;</li><li>&lt;NA&gt;</li><li>&lt;NA&gt;</li><li>&lt;NA&gt;</li><li>&lt;NA&gt;</li></ol>\n"
            ]
          },
          "metadata": {
            "tags": []
          }
        }
      ]
    },
    {
      "cell_type": "code",
      "metadata": {
        "id": "f-ZRGnsdvFGv",
        "colab": {
          "base_uri": "https://localhost:8080/",
          "height": 50
        },
        "outputId": "4a1d7dab-b35b-46a3-a42c-9d6a26949c5e"
      },
      "source": [
        "# Sample 20 values from above two vectors. \n",
        "x <- c(a,b)\n",
        "x <- sample(x, 20, replace=FALSE)\n",
        "x"
      ],
      "execution_count": 3,
      "outputs": [
        {
          "output_type": "display_data",
          "data": {
            "text/plain": [
              " [1]          NA          NA          NA          NA -0.06724946          NA\n",
              " [7]  0.23599629          NA  1.19751555          NA  1.04998500          NA\n",
              "[13]  0.69307762          NA          NA          NA -0.40087657          NA\n",
              "[19] -0.95348283  0.56512222"
            ],
            "text/latex": "\\begin{enumerate*}\n\\item <NA>\n\\item <NA>\n\\item <NA>\n\\item <NA>\n\\item -0.0672494596122258\n\\item <NA>\n\\item 0.235996285435477\n\\item <NA>\n\\item 1.19751555106242\n\\item <NA>\n\\item 1.04998499522981\n\\item <NA>\n\\item 0.693077620094557\n\\item <NA>\n\\item <NA>\n\\item <NA>\n\\item -0.400876572759581\n\\item <NA>\n\\item -0.9534828274532\n\\item 0.565122220038264\n\\end{enumerate*}\n",
            "text/markdown": "1. &lt;NA&gt;\n2. &lt;NA&gt;\n3. &lt;NA&gt;\n4. &lt;NA&gt;\n5. -0.0672494596122258\n6. &lt;NA&gt;\n7. 0.235996285435477\n8. &lt;NA&gt;\n9. 1.19751555106242\n10. &lt;NA&gt;\n11. 1.04998499522981\n12. &lt;NA&gt;\n13. 0.693077620094557\n14. &lt;NA&gt;\n15. &lt;NA&gt;\n16. &lt;NA&gt;\n17. -0.400876572759581\n18. &lt;NA&gt;\n19. -0.9534828274532\n20. 0.565122220038264\n\n\n",
            "text/html": [
              "<style>\n",
              ".list-inline {list-style: none; margin:0; padding: 0}\n",
              ".list-inline>li {display: inline-block}\n",
              ".list-inline>li:not(:last-child)::after {content: \"\\00b7\"; padding: 0 .5ex}\n",
              "</style>\n",
              "<ol class=list-inline><li>&lt;NA&gt;</li><li>&lt;NA&gt;</li><li>&lt;NA&gt;</li><li>&lt;NA&gt;</li><li>-0.0672494596122258</li><li>&lt;NA&gt;</li><li>0.235996285435477</li><li>&lt;NA&gt;</li><li>1.19751555106242</li><li>&lt;NA&gt;</li><li>1.04998499522981</li><li>&lt;NA&gt;</li><li>0.693077620094557</li><li>&lt;NA&gt;</li><li>&lt;NA&gt;</li><li>&lt;NA&gt;</li><li>-0.400876572759581</li><li>&lt;NA&gt;</li><li>-0.9534828274532</li><li>0.565122220038264</li></ol>\n"
            ]
          },
          "metadata": {
            "tags": []
          }
        }
      ]
    },
    {
      "cell_type": "code",
      "metadata": {
        "id": "wt7lpohAyaG7",
        "colab": {
          "base_uri": "https://localhost:8080/",
          "height": 34
        },
        "outputId": "e9c75e93-a4ae-4566-f92e-f06d983e8c36"
      },
      "source": [
        "# Subset 10th to 15th element from x to generate sample y.\n",
        "y <- x[10:15]\n",
        "y"
      ],
      "execution_count": 4,
      "outputs": [
        {
          "output_type": "display_data",
          "data": {
            "text/plain": [
              "[1]        NA 1.0499850        NA 0.6930776        NA        NA"
            ],
            "text/latex": "\\begin{enumerate*}\n\\item <NA>\n\\item 1.04998499522981\n\\item <NA>\n\\item 0.693077620094557\n\\item <NA>\n\\item <NA>\n\\end{enumerate*}\n",
            "text/markdown": "1. &lt;NA&gt;\n2. 1.04998499522981\n3. &lt;NA&gt;\n4. 0.693077620094557\n5. &lt;NA&gt;\n6. &lt;NA&gt;\n\n\n",
            "text/html": [
              "<style>\n",
              ".list-inline {list-style: none; margin:0; padding: 0}\n",
              ".list-inline>li {display: inline-block}\n",
              ".list-inline>li:not(:last-child)::after {content: \"\\00b7\"; padding: 0 .5ex}\n",
              "</style>\n",
              "<ol class=list-inline><li>&lt;NA&gt;</li><li>1.04998499522981</li><li>&lt;NA&gt;</li><li>0.693077620094557</li><li>&lt;NA&gt;</li><li>&lt;NA&gt;</li></ol>\n"
            ]
          },
          "metadata": {
            "tags": []
          }
        }
      ]
    },
    {
      "cell_type": "code",
      "metadata": {
        "id": "UK56iTQa0JbZ",
        "colab": {
          "base_uri": "https://localhost:8080/",
          "height": 50
        },
        "outputId": "bbab61e4-7e16-47e8-9b51-d8816052987d"
      },
      "source": [
        "# Count NAs in vector x and y. \n",
        "sum(is.na(x))\n",
        "sum(is.na(y))"
      ],
      "execution_count": 5,
      "outputs": [
        {
          "output_type": "display_data",
          "data": {
            "text/plain": [
              "[1] 12"
            ],
            "text/latex": "12",
            "text/markdown": "12",
            "text/html": [
              "12"
            ]
          },
          "metadata": {
            "tags": []
          }
        },
        {
          "output_type": "display_data",
          "data": {
            "text/plain": [
              "[1] 4"
            ],
            "text/latex": "4",
            "text/markdown": "4",
            "text/html": [
              "4"
            ]
          },
          "metadata": {
            "tags": []
          }
        }
      ]
    },
    {
      "cell_type": "code",
      "metadata": {
        "id": "bddWV0ti1MlO"
      },
      "source": [
        ""
      ],
      "execution_count": 6,
      "outputs": []
    }
  ]
}